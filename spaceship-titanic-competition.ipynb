{
 "cells": [
  {
   "cell_type": "code",
   "execution_count": 1,
   "id": "4746f406",
   "metadata": {
    "execution": {
     "iopub.execute_input": "2023-09-06T13:39:01.002115Z",
     "iopub.status.busy": "2023-09-06T13:39:01.001129Z",
     "iopub.status.idle": "2023-09-06T13:39:03.385254Z",
     "shell.execute_reply": "2023-09-06T13:39:03.384240Z"
    },
    "papermill": {
     "duration": 2.400315,
     "end_time": "2023-09-06T13:39:03.390566",
     "exception": false,
     "start_time": "2023-09-06T13:39:00.990251",
     "status": "completed"
    },
    "tags": []
   },
   "outputs": [
    {
     "name": "stderr",
     "output_type": "stream",
     "text": [
      "/opt/conda/lib/python3.10/site-packages/scipy/__init__.py:146: UserWarning: A NumPy version >=1.16.5 and <1.23.0 is required for this version of SciPy (detected version 1.23.5\n",
      "  warnings.warn(f\"A NumPy version >={np_minversion} and <{np_maxversion}\"\n"
     ]
    }
   ],
   "source": [
    "#Imports\n",
    "import numpy as np\n",
    "import pandas as pd\n",
    "\n",
    "from sklearn.model_selection import train_test_split\n",
    "from sklearn.impute import SimpleImputer\n",
    "from sklearn.compose import ColumnTransformer\n",
    "from sklearn.pipeline import Pipeline\n",
    "from sklearn.preprocessing import OneHotEncoder\n",
    "from sklearn.metrics import mean_absolute_error\n",
    "from xgboost import XGBRegressor"
   ]
  },
  {
   "cell_type": "markdown",
   "id": "411f72e5",
   "metadata": {
    "papermill": {
     "duration": 0.007648,
     "end_time": "2023-09-06T13:39:03.412214",
     "exception": false,
     "start_time": "2023-09-06T13:39:03.404566",
     "status": "completed"
    },
    "tags": []
   },
   "source": [
    "# Building initial model"
   ]
  },
  {
   "cell_type": "code",
   "execution_count": 2,
   "id": "b1782387",
   "metadata": {
    "execution": {
     "iopub.execute_input": "2023-09-06T13:39:03.431316Z",
     "iopub.status.busy": "2023-09-06T13:39:03.429809Z",
     "iopub.status.idle": "2023-09-06T13:39:03.563282Z",
     "shell.execute_reply": "2023-09-06T13:39:03.562112Z"
    },
    "papermill": {
     "duration": 0.145942,
     "end_time": "2023-09-06T13:39:03.565710",
     "exception": false,
     "start_time": "2023-09-06T13:39:03.419768",
     "status": "completed"
    },
    "tags": []
   },
   "outputs": [
    {
     "data": {
      "text/html": [
       "<div>\n",
       "<style scoped>\n",
       "    .dataframe tbody tr th:only-of-type {\n",
       "        vertical-align: middle;\n",
       "    }\n",
       "\n",
       "    .dataframe tbody tr th {\n",
       "        vertical-align: top;\n",
       "    }\n",
       "\n",
       "    .dataframe thead th {\n",
       "        text-align: right;\n",
       "    }\n",
       "</style>\n",
       "<table border=\"1\" class=\"dataframe\">\n",
       "  <thead>\n",
       "    <tr style=\"text-align: right;\">\n",
       "      <th></th>\n",
       "      <th>HomePlanet</th>\n",
       "      <th>CryoSleep</th>\n",
       "      <th>Cabin</th>\n",
       "      <th>Destination</th>\n",
       "      <th>Age</th>\n",
       "      <th>VIP</th>\n",
       "      <th>RoomService</th>\n",
       "      <th>FoodCourt</th>\n",
       "      <th>ShoppingMall</th>\n",
       "      <th>Spa</th>\n",
       "      <th>VRDeck</th>\n",
       "      <th>Name</th>\n",
       "      <th>Transported</th>\n",
       "    </tr>\n",
       "    <tr>\n",
       "      <th>PassengerId</th>\n",
       "      <th></th>\n",
       "      <th></th>\n",
       "      <th></th>\n",
       "      <th></th>\n",
       "      <th></th>\n",
       "      <th></th>\n",
       "      <th></th>\n",
       "      <th></th>\n",
       "      <th></th>\n",
       "      <th></th>\n",
       "      <th></th>\n",
       "      <th></th>\n",
       "      <th></th>\n",
       "    </tr>\n",
       "  </thead>\n",
       "  <tbody>\n",
       "    <tr>\n",
       "      <th>0001_01</th>\n",
       "      <td>Europa</td>\n",
       "      <td>False</td>\n",
       "      <td>B/0/P</td>\n",
       "      <td>TRAPPIST-1e</td>\n",
       "      <td>39.0</td>\n",
       "      <td>False</td>\n",
       "      <td>0.0</td>\n",
       "      <td>0.0</td>\n",
       "      <td>0.0</td>\n",
       "      <td>0.0</td>\n",
       "      <td>0.0</td>\n",
       "      <td>Maham Ofracculy</td>\n",
       "      <td>False</td>\n",
       "    </tr>\n",
       "    <tr>\n",
       "      <th>0002_01</th>\n",
       "      <td>Earth</td>\n",
       "      <td>False</td>\n",
       "      <td>F/0/S</td>\n",
       "      <td>TRAPPIST-1e</td>\n",
       "      <td>24.0</td>\n",
       "      <td>False</td>\n",
       "      <td>109.0</td>\n",
       "      <td>9.0</td>\n",
       "      <td>25.0</td>\n",
       "      <td>549.0</td>\n",
       "      <td>44.0</td>\n",
       "      <td>Juanna Vines</td>\n",
       "      <td>True</td>\n",
       "    </tr>\n",
       "    <tr>\n",
       "      <th>0003_01</th>\n",
       "      <td>Europa</td>\n",
       "      <td>False</td>\n",
       "      <td>A/0/S</td>\n",
       "      <td>TRAPPIST-1e</td>\n",
       "      <td>58.0</td>\n",
       "      <td>True</td>\n",
       "      <td>43.0</td>\n",
       "      <td>3576.0</td>\n",
       "      <td>0.0</td>\n",
       "      <td>6715.0</td>\n",
       "      <td>49.0</td>\n",
       "      <td>Altark Susent</td>\n",
       "      <td>False</td>\n",
       "    </tr>\n",
       "    <tr>\n",
       "      <th>0003_02</th>\n",
       "      <td>Europa</td>\n",
       "      <td>False</td>\n",
       "      <td>A/0/S</td>\n",
       "      <td>TRAPPIST-1e</td>\n",
       "      <td>33.0</td>\n",
       "      <td>False</td>\n",
       "      <td>0.0</td>\n",
       "      <td>1283.0</td>\n",
       "      <td>371.0</td>\n",
       "      <td>3329.0</td>\n",
       "      <td>193.0</td>\n",
       "      <td>Solam Susent</td>\n",
       "      <td>False</td>\n",
       "    </tr>\n",
       "    <tr>\n",
       "      <th>0004_01</th>\n",
       "      <td>Earth</td>\n",
       "      <td>False</td>\n",
       "      <td>F/1/S</td>\n",
       "      <td>TRAPPIST-1e</td>\n",
       "      <td>16.0</td>\n",
       "      <td>False</td>\n",
       "      <td>303.0</td>\n",
       "      <td>70.0</td>\n",
       "      <td>151.0</td>\n",
       "      <td>565.0</td>\n",
       "      <td>2.0</td>\n",
       "      <td>Willy Santantines</td>\n",
       "      <td>True</td>\n",
       "    </tr>\n",
       "  </tbody>\n",
       "</table>\n",
       "</div>"
      ],
      "text/plain": [
       "            HomePlanet CryoSleep  Cabin  Destination   Age    VIP  \\\n",
       "PassengerId                                                         \n",
       "0001_01         Europa     False  B/0/P  TRAPPIST-1e  39.0  False   \n",
       "0002_01          Earth     False  F/0/S  TRAPPIST-1e  24.0  False   \n",
       "0003_01         Europa     False  A/0/S  TRAPPIST-1e  58.0   True   \n",
       "0003_02         Europa     False  A/0/S  TRAPPIST-1e  33.0  False   \n",
       "0004_01          Earth     False  F/1/S  TRAPPIST-1e  16.0  False   \n",
       "\n",
       "             RoomService  FoodCourt  ShoppingMall     Spa  VRDeck  \\\n",
       "PassengerId                                                         \n",
       "0001_01              0.0        0.0           0.0     0.0     0.0   \n",
       "0002_01            109.0        9.0          25.0   549.0    44.0   \n",
       "0003_01             43.0     3576.0           0.0  6715.0    49.0   \n",
       "0003_02              0.0     1283.0         371.0  3329.0   193.0   \n",
       "0004_01            303.0       70.0         151.0   565.0     2.0   \n",
       "\n",
       "                          Name  Transported  \n",
       "PassengerId                                  \n",
       "0001_01        Maham Ofracculy        False  \n",
       "0002_01           Juanna Vines         True  \n",
       "0003_01          Altark Susent        False  \n",
       "0003_02           Solam Susent        False  \n",
       "0004_01      Willy Santantines         True  "
      ]
     },
     "metadata": {},
     "output_type": "display_data"
    },
    {
     "data": {
      "text/html": [
       "<div>\n",
       "<style scoped>\n",
       "    .dataframe tbody tr th:only-of-type {\n",
       "        vertical-align: middle;\n",
       "    }\n",
       "\n",
       "    .dataframe tbody tr th {\n",
       "        vertical-align: top;\n",
       "    }\n",
       "\n",
       "    .dataframe thead th {\n",
       "        text-align: right;\n",
       "    }\n",
       "</style>\n",
       "<table border=\"1\" class=\"dataframe\">\n",
       "  <thead>\n",
       "    <tr style=\"text-align: right;\">\n",
       "      <th></th>\n",
       "      <th>HomePlanet</th>\n",
       "      <th>CryoSleep</th>\n",
       "      <th>Cabin</th>\n",
       "      <th>Destination</th>\n",
       "      <th>Age</th>\n",
       "      <th>VIP</th>\n",
       "      <th>RoomService</th>\n",
       "      <th>FoodCourt</th>\n",
       "      <th>ShoppingMall</th>\n",
       "      <th>Spa</th>\n",
       "      <th>VRDeck</th>\n",
       "      <th>Name</th>\n",
       "    </tr>\n",
       "    <tr>\n",
       "      <th>PassengerId</th>\n",
       "      <th></th>\n",
       "      <th></th>\n",
       "      <th></th>\n",
       "      <th></th>\n",
       "      <th></th>\n",
       "      <th></th>\n",
       "      <th></th>\n",
       "      <th></th>\n",
       "      <th></th>\n",
       "      <th></th>\n",
       "      <th></th>\n",
       "      <th></th>\n",
       "    </tr>\n",
       "  </thead>\n",
       "  <tbody>\n",
       "    <tr>\n",
       "      <th>0013_01</th>\n",
       "      <td>Earth</td>\n",
       "      <td>True</td>\n",
       "      <td>G/3/S</td>\n",
       "      <td>TRAPPIST-1e</td>\n",
       "      <td>27.0</td>\n",
       "      <td>False</td>\n",
       "      <td>0.0</td>\n",
       "      <td>0.0</td>\n",
       "      <td>0.0</td>\n",
       "      <td>0.0</td>\n",
       "      <td>0.0</td>\n",
       "      <td>Nelly Carsoning</td>\n",
       "    </tr>\n",
       "    <tr>\n",
       "      <th>0018_01</th>\n",
       "      <td>Earth</td>\n",
       "      <td>False</td>\n",
       "      <td>F/4/S</td>\n",
       "      <td>TRAPPIST-1e</td>\n",
       "      <td>19.0</td>\n",
       "      <td>False</td>\n",
       "      <td>0.0</td>\n",
       "      <td>9.0</td>\n",
       "      <td>0.0</td>\n",
       "      <td>2823.0</td>\n",
       "      <td>0.0</td>\n",
       "      <td>Lerome Peckers</td>\n",
       "    </tr>\n",
       "    <tr>\n",
       "      <th>0019_01</th>\n",
       "      <td>Europa</td>\n",
       "      <td>True</td>\n",
       "      <td>C/0/S</td>\n",
       "      <td>55 Cancri e</td>\n",
       "      <td>31.0</td>\n",
       "      <td>False</td>\n",
       "      <td>0.0</td>\n",
       "      <td>0.0</td>\n",
       "      <td>0.0</td>\n",
       "      <td>0.0</td>\n",
       "      <td>0.0</td>\n",
       "      <td>Sabih Unhearfus</td>\n",
       "    </tr>\n",
       "    <tr>\n",
       "      <th>0021_01</th>\n",
       "      <td>Europa</td>\n",
       "      <td>False</td>\n",
       "      <td>C/1/S</td>\n",
       "      <td>TRAPPIST-1e</td>\n",
       "      <td>38.0</td>\n",
       "      <td>False</td>\n",
       "      <td>0.0</td>\n",
       "      <td>6652.0</td>\n",
       "      <td>0.0</td>\n",
       "      <td>181.0</td>\n",
       "      <td>585.0</td>\n",
       "      <td>Meratz Caltilter</td>\n",
       "    </tr>\n",
       "    <tr>\n",
       "      <th>0023_01</th>\n",
       "      <td>Earth</td>\n",
       "      <td>False</td>\n",
       "      <td>F/5/S</td>\n",
       "      <td>TRAPPIST-1e</td>\n",
       "      <td>20.0</td>\n",
       "      <td>False</td>\n",
       "      <td>10.0</td>\n",
       "      <td>0.0</td>\n",
       "      <td>635.0</td>\n",
       "      <td>0.0</td>\n",
       "      <td>0.0</td>\n",
       "      <td>Brence Harperez</td>\n",
       "    </tr>\n",
       "  </tbody>\n",
       "</table>\n",
       "</div>"
      ],
      "text/plain": [
       "            HomePlanet CryoSleep  Cabin  Destination   Age    VIP  \\\n",
       "PassengerId                                                         \n",
       "0013_01          Earth      True  G/3/S  TRAPPIST-1e  27.0  False   \n",
       "0018_01          Earth     False  F/4/S  TRAPPIST-1e  19.0  False   \n",
       "0019_01         Europa      True  C/0/S  55 Cancri e  31.0  False   \n",
       "0021_01         Europa     False  C/1/S  TRAPPIST-1e  38.0  False   \n",
       "0023_01          Earth     False  F/5/S  TRAPPIST-1e  20.0  False   \n",
       "\n",
       "             RoomService  FoodCourt  ShoppingMall     Spa  VRDeck  \\\n",
       "PassengerId                                                         \n",
       "0013_01              0.0        0.0           0.0     0.0     0.0   \n",
       "0018_01              0.0        9.0           0.0  2823.0     0.0   \n",
       "0019_01              0.0        0.0           0.0     0.0     0.0   \n",
       "0021_01              0.0     6652.0           0.0   181.0   585.0   \n",
       "0023_01             10.0        0.0         635.0     0.0     0.0   \n",
       "\n",
       "                         Name  \n",
       "PassengerId                    \n",
       "0013_01       Nelly Carsoning  \n",
       "0018_01        Lerome Peckers  \n",
       "0019_01       Sabih Unhearfus  \n",
       "0021_01      Meratz Caltilter  \n",
       "0023_01       Brence Harperez  "
      ]
     },
     "metadata": {},
     "output_type": "display_data"
    }
   ],
   "source": [
    "#Loading data\n",
    "train_data = pd.read_csv(\"/kaggle/input/spaceship-titanic/train.csv\", index_col = 'PassengerId') #data used to build the model\n",
    "display(train_data.head())\n",
    "test_data = pd.read_csv(\"/kaggle/input/spaceship-titanic/test.csv\", index_col = 'PassengerId') #data used to create submission\n",
    "display(test_data.head())\n",
    "\n",
    "#Setting the target\n",
    "y = train_data.Transported"
   ]
  },
  {
   "cell_type": "code",
   "execution_count": 3,
   "id": "c262f63e",
   "metadata": {
    "execution": {
     "iopub.execute_input": "2023-09-06T13:39:03.581603Z",
     "iopub.status.busy": "2023-09-06T13:39:03.580951Z",
     "iopub.status.idle": "2023-09-06T13:39:03.621262Z",
     "shell.execute_reply": "2023-09-06T13:39:03.619850Z"
    },
    "papermill": {
     "duration": 0.050668,
     "end_time": "2023-09-06T13:39:03.623667",
     "exception": false,
     "start_time": "2023-09-06T13:39:03.572999",
     "status": "completed"
    },
    "tags": []
   },
   "outputs": [
    {
     "name": "stdout",
     "output_type": "stream",
     "text": [
      "<class 'pandas.core.frame.DataFrame'>\n",
      "Index: 8693 entries, 0001_01 to 9280_02\n",
      "Data columns (total 13 columns):\n",
      " #   Column        Non-Null Count  Dtype  \n",
      "---  ------        --------------  -----  \n",
      " 0   HomePlanet    8492 non-null   object \n",
      " 1   CryoSleep     8476 non-null   object \n",
      " 2   Cabin         8494 non-null   object \n",
      " 3   Destination   8511 non-null   object \n",
      " 4   Age           8514 non-null   float64\n",
      " 5   VIP           8490 non-null   object \n",
      " 6   RoomService   8512 non-null   float64\n",
      " 7   FoodCourt     8510 non-null   float64\n",
      " 8   ShoppingMall  8485 non-null   float64\n",
      " 9   Spa           8510 non-null   float64\n",
      " 10  VRDeck        8505 non-null   float64\n",
      " 11  Name          8493 non-null   object \n",
      " 12  Transported   8693 non-null   bool   \n",
      "dtypes: bool(1), float64(6), object(6)\n",
      "memory usage: 891.4+ KB\n"
     ]
    }
   ],
   "source": [
    "#Getting overall information about data\n",
    "train_data.info()"
   ]
  },
  {
   "cell_type": "code",
   "execution_count": 4,
   "id": "3a3ec475",
   "metadata": {
    "execution": {
     "iopub.execute_input": "2023-09-06T13:39:03.640580Z",
     "iopub.status.busy": "2023-09-06T13:39:03.639453Z",
     "iopub.status.idle": "2023-09-06T13:39:03.658497Z",
     "shell.execute_reply": "2023-09-06T13:39:03.657193Z"
    },
    "papermill": {
     "duration": 0.031176,
     "end_time": "2023-09-06T13:39:03.662085",
     "exception": false,
     "start_time": "2023-09-06T13:39:03.630909",
     "status": "completed"
    },
    "tags": []
   },
   "outputs": [
    {
     "data": {
      "text/html": [
       "<div>\n",
       "<style scoped>\n",
       "    .dataframe tbody tr th:only-of-type {\n",
       "        vertical-align: middle;\n",
       "    }\n",
       "\n",
       "    .dataframe tbody tr th {\n",
       "        vertical-align: top;\n",
       "    }\n",
       "\n",
       "    .dataframe thead th {\n",
       "        text-align: right;\n",
       "    }\n",
       "</style>\n",
       "<table border=\"1\" class=\"dataframe\">\n",
       "  <thead>\n",
       "    <tr style=\"text-align: right;\">\n",
       "      <th></th>\n",
       "      <th>HomePlanet</th>\n",
       "      <th>CryoSleep</th>\n",
       "      <th>Destination</th>\n",
       "      <th>Age</th>\n",
       "      <th>VIP</th>\n",
       "    </tr>\n",
       "    <tr>\n",
       "      <th>PassengerId</th>\n",
       "      <th></th>\n",
       "      <th></th>\n",
       "      <th></th>\n",
       "      <th></th>\n",
       "      <th></th>\n",
       "    </tr>\n",
       "  </thead>\n",
       "  <tbody>\n",
       "    <tr>\n",
       "      <th>0001_01</th>\n",
       "      <td>Europa</td>\n",
       "      <td>False</td>\n",
       "      <td>TRAPPIST-1e</td>\n",
       "      <td>39.0</td>\n",
       "      <td>False</td>\n",
       "    </tr>\n",
       "    <tr>\n",
       "      <th>0002_01</th>\n",
       "      <td>Earth</td>\n",
       "      <td>False</td>\n",
       "      <td>TRAPPIST-1e</td>\n",
       "      <td>24.0</td>\n",
       "      <td>False</td>\n",
       "    </tr>\n",
       "    <tr>\n",
       "      <th>0003_01</th>\n",
       "      <td>Europa</td>\n",
       "      <td>False</td>\n",
       "      <td>TRAPPIST-1e</td>\n",
       "      <td>58.0</td>\n",
       "      <td>True</td>\n",
       "    </tr>\n",
       "    <tr>\n",
       "      <th>0003_02</th>\n",
       "      <td>Europa</td>\n",
       "      <td>False</td>\n",
       "      <td>TRAPPIST-1e</td>\n",
       "      <td>33.0</td>\n",
       "      <td>False</td>\n",
       "    </tr>\n",
       "    <tr>\n",
       "      <th>0004_01</th>\n",
       "      <td>Earth</td>\n",
       "      <td>False</td>\n",
       "      <td>TRAPPIST-1e</td>\n",
       "      <td>16.0</td>\n",
       "      <td>False</td>\n",
       "    </tr>\n",
       "  </tbody>\n",
       "</table>\n",
       "</div>"
      ],
      "text/plain": [
       "            HomePlanet CryoSleep  Destination   Age    VIP\n",
       "PassengerId                                               \n",
       "0001_01         Europa     False  TRAPPIST-1e  39.0  False\n",
       "0002_01          Earth     False  TRAPPIST-1e  24.0  False\n",
       "0003_01         Europa     False  TRAPPIST-1e  58.0   True\n",
       "0003_02         Europa     False  TRAPPIST-1e  33.0  False\n",
       "0004_01          Earth     False  TRAPPIST-1e  16.0  False"
      ]
     },
     "execution_count": 4,
     "metadata": {},
     "output_type": "execute_result"
    }
   ],
   "source": [
    "#Choosing initial features and setting initial X\n",
    "features_in = ['HomePlanet', 'CryoSleep', 'Destination', 'Age', 'VIP']\n",
    "X_in = train_data[features_in]\n",
    "X_in.head()"
   ]
  },
  {
   "cell_type": "code",
   "execution_count": 5,
   "id": "e6b4d0c4",
   "metadata": {
    "execution": {
     "iopub.execute_input": "2023-09-06T13:39:03.679477Z",
     "iopub.status.busy": "2023-09-06T13:39:03.679062Z",
     "iopub.status.idle": "2023-09-06T13:39:03.687311Z",
     "shell.execute_reply": "2023-09-06T13:39:03.686123Z"
    },
    "papermill": {
     "duration": 0.020394,
     "end_time": "2023-09-06T13:39:03.690697",
     "exception": false,
     "start_time": "2023-09-06T13:39:03.670303",
     "status": "completed"
    },
    "tags": []
   },
   "outputs": [
    {
     "data": {
      "text/plain": [
       "array(['Europa', 'Earth', 'Mars', nan], dtype=object)"
      ]
     },
     "execution_count": 5,
     "metadata": {},
     "output_type": "execute_result"
    }
   ],
   "source": [
    "X_in.HomePlanet.unique() #how many unique home planets there are"
   ]
  },
  {
   "cell_type": "code",
   "execution_count": 6,
   "id": "bfa78510",
   "metadata": {
    "execution": {
     "iopub.execute_input": "2023-09-06T13:39:03.707524Z",
     "iopub.status.busy": "2023-09-06T13:39:03.706875Z",
     "iopub.status.idle": "2023-09-06T13:39:03.714467Z",
     "shell.execute_reply": "2023-09-06T13:39:03.713497Z"
    },
    "papermill": {
     "duration": 0.018513,
     "end_time": "2023-09-06T13:39:03.716706",
     "exception": false,
     "start_time": "2023-09-06T13:39:03.698193",
     "status": "completed"
    },
    "tags": []
   },
   "outputs": [
    {
     "data": {
      "text/plain": [
       "array(['TRAPPIST-1e', 'PSO J318.5-22', '55 Cancri e', nan], dtype=object)"
      ]
     },
     "execution_count": 6,
     "metadata": {},
     "output_type": "execute_result"
    }
   ],
   "source": [
    "X_in.Destination.unique() #how many unique destinations there are"
   ]
  },
  {
   "cell_type": "code",
   "execution_count": 7,
   "id": "24cfa154",
   "metadata": {
    "execution": {
     "iopub.execute_input": "2023-09-06T13:39:03.734279Z",
     "iopub.status.busy": "2023-09-06T13:39:03.733412Z",
     "iopub.status.idle": "2023-09-06T13:39:03.743174Z",
     "shell.execute_reply": "2023-09-06T13:39:03.742182Z"
    },
    "papermill": {
     "duration": 0.020846,
     "end_time": "2023-09-06T13:39:03.745480",
     "exception": false,
     "start_time": "2023-09-06T13:39:03.724634",
     "status": "completed"
    },
    "tags": []
   },
   "outputs": [],
   "source": [
    "#Splitting data into training and test set\n",
    "train_X_in, val_X_in, train_y, val_y = train_test_split(X_in, y, random_state = 0)"
   ]
  },
  {
   "cell_type": "code",
   "execution_count": 8,
   "id": "e2cac183",
   "metadata": {
    "execution": {
     "iopub.execute_input": "2023-09-06T13:39:03.762234Z",
     "iopub.status.busy": "2023-09-06T13:39:03.761897Z",
     "iopub.status.idle": "2023-09-06T13:39:03.847153Z",
     "shell.execute_reply": "2023-09-06T13:39:03.846148Z"
    },
    "papermill": {
     "duration": 0.096303,
     "end_time": "2023-09-06T13:39:03.849363",
     "exception": false,
     "start_time": "2023-09-06T13:39:03.753060",
     "status": "completed"
    },
    "tags": []
   },
   "outputs": [
    {
     "name": "stdout",
     "output_type": "stream",
     "text": [
      "Shape of training data is (6519, 5)\n",
      "Columns with sum of missing values:\n",
      " HomePlanet     150\n",
      "CryoSleep      160\n",
      "Destination    137\n",
      "Age            135\n",
      "VIP            167\n",
      "dtype: int64\n"
     ]
    }
   ],
   "source": [
    "#Looking for missing values\n",
    "print(f'Shape of training data is {train_X_in.shape}')\n",
    "\n",
    "missing_val_count_by_col = train_X_in.isnull().sum()\n",
    "print(f'Columns with sum of missing values:\\n {missing_val_count_by_col}')\n"
   ]
  },
  {
   "cell_type": "code",
   "execution_count": 9,
   "id": "f6939218",
   "metadata": {
    "execution": {
     "iopub.execute_input": "2023-09-06T13:39:03.866462Z",
     "iopub.status.busy": "2023-09-06T13:39:03.866102Z",
     "iopub.status.idle": "2023-09-06T13:39:04.564564Z",
     "shell.execute_reply": "2023-09-06T13:39:04.563681Z"
    },
    "papermill": {
     "duration": 0.709626,
     "end_time": "2023-09-06T13:39:04.566793",
     "exception": false,
     "start_time": "2023-09-06T13:39:03.857167",
     "status": "completed"
    },
    "tags": []
   },
   "outputs": [
    {
     "name": "stdout",
     "output_type": "stream",
     "text": [
      "MAE: 0.3606950640678406\n"
     ]
    }
   ],
   "source": [
    "#preprocessing for numerical data\n",
    "numerical_col = [\"Age\"]\n",
    "numerical_transformer = SimpleImputer(strategy = \"median\")\n",
    "\n",
    "#preporcessing for categorical data\n",
    "categorical_col = [\"HomePlanet\", \"CryoSleep\", \"Destination\", \"VIP\"]\n",
    "categorical_transformer = OneHotEncoder(handle_unknown = \"ignore\")\n",
    "\n",
    "#Bundle preprocesisng\n",
    "preprocessor = ColumnTransformer(\n",
    "    transformers =[\n",
    "        ('num', numerical_transformer, numerical_col),\n",
    "        ('cat', categorical_transformer, categorical_col)\n",
    "    ]\n",
    ")\n",
    "\n",
    "#Buildign the model\n",
    "initial_model = XGBRegressor()\n",
    "\n",
    "# Bundle preprocessing and modeling code in a pipeline\n",
    "pipeline = Pipeline(steps=[('preprocessor', preprocessor),\n",
    "                           ('model', initial_model)\n",
    "                          ])\n",
    "\n",
    "#Preprocessing of training data and fitting the model\n",
    "pipeline.fit(train_X_in, train_y)\n",
    "\n",
    "#Preprocessing of validation data and getting predictions\n",
    "preds = pipeline.predict(val_X_in)\n",
    "\n",
    "print(f'MAE: {mean_absolute_error(preds, val_y)}')"
   ]
  },
  {
   "cell_type": "code",
   "execution_count": 10,
   "id": "d87a0fa4",
   "metadata": {
    "execution": {
     "iopub.execute_input": "2023-09-06T13:39:04.584617Z",
     "iopub.status.busy": "2023-09-06T13:39:04.584311Z",
     "iopub.status.idle": "2023-09-06T13:39:04.610879Z",
     "shell.execute_reply": "2023-09-06T13:39:04.610106Z"
    },
    "papermill": {
     "duration": 0.037992,
     "end_time": "2023-09-06T13:39:04.613454",
     "exception": false,
     "start_time": "2023-09-06T13:39:04.575462",
     "status": "completed"
    },
    "tags": []
   },
   "outputs": [],
   "source": [
    "#Creating test_X containing columns with features from test dataset\n",
    "test_X = test_data[features_in]\n",
    "#Making predicitions\n",
    "test_pred = pipeline.predict(test_X)"
   ]
  },
  {
   "cell_type": "code",
   "execution_count": 11,
   "id": "49289f98",
   "metadata": {
    "execution": {
     "iopub.execute_input": "2023-09-06T13:39:04.631702Z",
     "iopub.status.busy": "2023-09-06T13:39:04.631360Z",
     "iopub.status.idle": "2023-09-06T13:39:04.651089Z",
     "shell.execute_reply": "2023-09-06T13:39:04.649428Z"
    },
    "papermill": {
     "duration": 0.031063,
     "end_time": "2023-09-06T13:39:04.653476",
     "exception": false,
     "start_time": "2023-09-06T13:39:04.622413",
     "status": "completed"
    },
    "tags": []
   },
   "outputs": [
    {
     "name": "stdout",
     "output_type": "stream",
     "text": [
      "Your submission was successfully saved!\n"
     ]
    }
   ],
   "source": [
    "#Generating a submission\n",
    "output = pd.DataFrame({'Survived': test_pred}, index = test_data.index)\n",
    "output.to_csv('my_submission.csv')\n",
    "print(\"Your submission was successfully saved!\")"
   ]
  },
  {
   "cell_type": "code",
   "execution_count": 12,
   "id": "efd30c8f",
   "metadata": {
    "execution": {
     "iopub.execute_input": "2023-09-06T13:39:04.672001Z",
     "iopub.status.busy": "2023-09-06T13:39:04.671060Z",
     "iopub.status.idle": "2023-09-06T13:39:04.684043Z",
     "shell.execute_reply": "2023-09-06T13:39:04.683078Z"
    },
    "papermill": {
     "duration": 0.024266,
     "end_time": "2023-09-06T13:39:04.686352",
     "exception": false,
     "start_time": "2023-09-06T13:39:04.662086",
     "status": "completed"
    },
    "tags": []
   },
   "outputs": [
    {
     "data": {
      "text/html": [
       "<div>\n",
       "<style scoped>\n",
       "    .dataframe tbody tr th:only-of-type {\n",
       "        vertical-align: middle;\n",
       "    }\n",
       "\n",
       "    .dataframe tbody tr th {\n",
       "        vertical-align: top;\n",
       "    }\n",
       "\n",
       "    .dataframe thead th {\n",
       "        text-align: right;\n",
       "    }\n",
       "</style>\n",
       "<table border=\"1\" class=\"dataframe\">\n",
       "  <thead>\n",
       "    <tr style=\"text-align: right;\">\n",
       "      <th></th>\n",
       "      <th>Survived</th>\n",
       "    </tr>\n",
       "    <tr>\n",
       "      <th>PassengerId</th>\n",
       "      <th></th>\n",
       "    </tr>\n",
       "  </thead>\n",
       "  <tbody>\n",
       "    <tr>\n",
       "      <th>0013_01</th>\n",
       "      <td>0.579235</td>\n",
       "    </tr>\n",
       "    <tr>\n",
       "      <th>0018_01</th>\n",
       "      <td>0.312508</td>\n",
       "    </tr>\n",
       "    <tr>\n",
       "      <th>0019_01</th>\n",
       "      <td>0.936263</td>\n",
       "    </tr>\n",
       "    <tr>\n",
       "      <th>0021_01</th>\n",
       "      <td>0.338878</td>\n",
       "    </tr>\n",
       "    <tr>\n",
       "      <th>0023_01</th>\n",
       "      <td>0.307516</td>\n",
       "    </tr>\n",
       "    <tr>\n",
       "      <th>...</th>\n",
       "      <td>...</td>\n",
       "    </tr>\n",
       "    <tr>\n",
       "      <th>9266_02</th>\n",
       "      <td>0.499853</td>\n",
       "    </tr>\n",
       "    <tr>\n",
       "      <th>9269_01</th>\n",
       "      <td>0.192717</td>\n",
       "    </tr>\n",
       "    <tr>\n",
       "      <th>9271_01</th>\n",
       "      <td>0.993272</td>\n",
       "    </tr>\n",
       "    <tr>\n",
       "      <th>9273_01</th>\n",
       "      <td>0.614631</td>\n",
       "    </tr>\n",
       "    <tr>\n",
       "      <th>9277_01</th>\n",
       "      <td>0.268429</td>\n",
       "    </tr>\n",
       "  </tbody>\n",
       "</table>\n",
       "<p>4277 rows × 1 columns</p>\n",
       "</div>"
      ],
      "text/plain": [
       "             Survived\n",
       "PassengerId          \n",
       "0013_01      0.579235\n",
       "0018_01      0.312508\n",
       "0019_01      0.936263\n",
       "0021_01      0.338878\n",
       "0023_01      0.307516\n",
       "...               ...\n",
       "9266_02      0.499853\n",
       "9269_01      0.192717\n",
       "9271_01      0.993272\n",
       "9273_01      0.614631\n",
       "9277_01      0.268429\n",
       "\n",
       "[4277 rows x 1 columns]"
      ]
     },
     "execution_count": 12,
     "metadata": {},
     "output_type": "execute_result"
    }
   ],
   "source": [
    "output"
   ]
  },
  {
   "cell_type": "code",
   "execution_count": null,
   "id": "2a3851a1",
   "metadata": {
    "papermill": {
     "duration": 0.007199,
     "end_time": "2023-09-06T13:39:04.701949",
     "exception": false,
     "start_time": "2023-09-06T13:39:04.694750",
     "status": "completed"
    },
    "tags": []
   },
   "outputs": [],
   "source": []
  }
 ],
 "kernelspec": {
  "display_name": "Python 3",
  "language": "python",
  "name": "python3"
 },
 "language_info": {
  "codemirror_mode": {
   "name": "ipython",
   "version": 3
  },
  "file_extension": ".py",
  "mimetype": "text/x-python",
  "name": "python",
  "nbconvert_exporter": "python",
  "pygments_lexer": "ipython3",
  "version": "3.6.4"
 },
 "metadata": {
  "kernelspec": {
   "display_name": "Python 3",
   "language": "python",
   "name": "python3"
  },
  "language_info": {
   "codemirror_mode": {
    "name": "ipython",
    "version": 3
   },
   "file_extension": ".py",
   "mimetype": "text/x-python",
   "name": "python",
   "nbconvert_exporter": "python",
   "pygments_lexer": "ipython3",
   "version": "3.10.12"
  },
  "papermill": {
   "default_parameters": {},
   "duration": 7.854702,
   "end_time": "2023-09-06T13:39:05.127910",
   "environment_variables": {},
   "exception": null,
   "input_path": "__notebook__.ipynb",
   "output_path": "__notebook__.ipynb",
   "parameters": {},
   "start_time": "2023-09-06T13:38:57.273208",
   "version": "2.4.0"
  }
 },
 "nbformat": 4,
 "nbformat_minor": 5
}
